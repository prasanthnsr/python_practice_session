{
 "cells": [
  {
   "cell_type": "code",
   "execution_count": 47,
   "metadata": {},
   "outputs": [],
   "source": [
    "# Highlight Excel Differences\n",
    "\n",
    "# Reference Script : https://matthewkudija.com/blog/2018/07/21/excel-diff/"
   ]
  },
  {
   "cell_type": "code",
   "execution_count": null,
   "metadata": {},
   "outputs": [],
   "source": [
    "import pandas as pd\n",
    "from pandas import ExcelWriter\n",
    "from pandas import ExcelFile "
   ]
  },
  {
   "cell_type": "code",
   "execution_count": 48,
   "metadata": {},
   "outputs": [],
   "source": [
    "# Titanic Negative Case - With some Mismatch Records\n",
    "\n",
    "titanic_negative_source = \"D:\\\\Projects\\\\Cadent\\\\Cadent_BigDataTesting_Automation\\\\Demo\\\\Script_without_UDF\\\\Data_Files\\\\Titanic\\\\Titanic_Highlight_Differences\\\\HD_Input\\\\Titanic_Source.xls\"\n",
    "titanic_negative_target = \"D:\\\\Projects\\\\Cadent\\\\Cadent_BigDataTesting_Automation\\\\Demo\\\\Script_without_UDF\\\\Data_Files\\\\Titanic\\\\Titanic_Highlight_Differences\\\\HD_Input\\\\Titanic_Target.xls\"\n",
    "titanic_negative_mismatch = \"D:\\\\Projects\\\\Cadent\\\\Cadent_BigDataTesting_Automation\\\\Demo\\\\Script_without_UDF\\\\Data_Files\\\\Titanic\\\\Titanic_Highlight_Differences\\\\HD_Output\\\\Titanic_Highlight_Difference.xls\""
   ]
  },
  {
   "cell_type": "code",
   "execution_count": 49,
   "metadata": {},
   "outputs": [
    {
     "name": "stdout",
     "output_type": "stream",
     "text": [
      "       pid pclass  survived                                             name  \\\n",
      "0        1    S_1         1                    Allen, Miss. Elisabeth Walton   \n",
      "1        2    S_1         1                   Allison, Master. Hudson Trevor   \n",
      "2        3    S_1         0                     Allison, Miss. Helen Loraine   \n",
      "3        4    S_1         0             Allison, Mr. Hudson Joshua Creighton   \n",
      "4        5    S_1         0  Allison, Mrs. Hudson J C (Bessie Waldo Daniels)   \n",
      "...    ...    ...       ...                                              ...   \n",
      "1304  1305      3         0                             Zabour, Miss. Hileni   \n",
      "1305  1306      3         0                            Zabour, Miss. Thamine   \n",
      "1306  1307      3         0                        Zakarian, Mr. Mapriededer   \n",
      "1307  1308      3         0                              Zakarian, Mr. Ortin   \n",
      "1308  1309      3         0                               Zimmerman, Mr. Leo   \n",
      "\n",
      "      gender      age  sibsp  parch  ticket      fare    cabin embarked boat  \\\n",
      "0       male  29.0000      0      0   24160  211.3375       B5      S_S    2   \n",
      "1       male   0.9167      1      2  113781  151.5500  C22 C26      S_S   11   \n",
      "2       male   2.0000      1      2  113781  151.5500  C22 C26      S_S    0   \n",
      "3       male  30.0000      1      2  113781  151.5500  C22 C26      S_S    0   \n",
      "4       male  25.0000      1      2  113781  151.5500  C22 C26      S_S    0   \n",
      "...      ...      ...    ...    ...     ...       ...      ...      ...  ...   \n",
      "1304  female  14.5000      1      0    2665   14.4542        0        C    0   \n",
      "1305  female   0.0000      1      0    2665   14.4542        0        C    0   \n",
      "1306    male  26.5000      0      0    2656    7.2250        0        C    0   \n",
      "1307    male  27.0000      0      0    2670    7.2250        0        C    0   \n",
      "1308    male  29.0000      0      0  315082    7.8750        0        S    0   \n",
      "\n",
      "       body                        home.dest  \n",
      "0       0.0                     St Louis, MO  \n",
      "1       0.0  Montreal, PQ / Chesterville, ON  \n",
      "2       0.0  Montreal, PQ / Chesterville, ON  \n",
      "3     135.0  Montreal, PQ / Chesterville, ON  \n",
      "4       0.0  Montreal, PQ / Chesterville, ON  \n",
      "...     ...                              ...  \n",
      "1304  328.0                                0  \n",
      "1305    0.0                                0  \n",
      "1306  304.0                                0  \n",
      "1307    0.0                                0  \n",
      "1308    0.0                                0  \n",
      "\n",
      "[1309 rows x 15 columns]\n"
     ]
    }
   ],
   "source": [
    "# Reading 'Source' data\n",
    "\n",
    "source_n = pd.read_excel(titanic_negative_source, sheet_name = 'titanic_source').fillna(0)\n",
    "print(source_n)"
   ]
  },
  {
   "cell_type": "code",
   "execution_count": 50,
   "metadata": {},
   "outputs": [
    {
     "name": "stdout",
     "output_type": "stream",
     "text": [
      "       pid pclass  survived                                             name  \\\n",
      "0        1    T_1         1                    Allen, Miss. Elisabeth Walton   \n",
      "1        2    T_1         1                   Allison, Master. Hudson Trevor   \n",
      "2        3    T_1         0                     Allison, Miss. Helen Loraine   \n",
      "3        4    T_1         0             Allison, Mr. Hudson Joshua Creighton   \n",
      "4        5    T_1         0  Allison, Mrs. Hudson J C (Bessie Waldo Daniels)   \n",
      "...    ...    ...       ...                                              ...   \n",
      "1304  1305      3         0                             Zabour, Miss. Hileni   \n",
      "1305  1306      3         0                            Zabour, Miss. Thamine   \n",
      "1306  1307      3         0                        Zakarian, Mr. Mapriededer   \n",
      "1307  1308      3         0                              Zakarian, Mr. Ortin   \n",
      "1308  1309      3         0                               Zimmerman, Mr. Leo   \n",
      "\n",
      "      gender      age  sibsp  parch  ticket      fare    cabin embarked boat  \\\n",
      "0     female  29.0000      0      0   24160  211.3375       B5      T_S    2   \n",
      "1     female   0.9167      1      2  113781  151.5500  C22 C26      T_S   11   \n",
      "2     female   2.0000      1      2  113781  151.5500  C22 C26      T_S    0   \n",
      "3     female  30.0000      1      2  113781  151.5500  C22 C26      T_S    0   \n",
      "4     female  25.0000      1      2  113781  151.5500  C22 C26      T_S    0   \n",
      "...      ...      ...    ...    ...     ...       ...      ...      ...  ...   \n",
      "1304  female  14.5000      1      0    2665   14.4542        0        C    0   \n",
      "1305  female   0.0000      1      0    2665   14.4542        0        C    0   \n",
      "1306    male  26.5000      0      0    2656    7.2250        0        C    0   \n",
      "1307    male  27.0000      0      0    2670    7.2250        0        C    0   \n",
      "1308    male  29.0000      0      0  315082    7.8750        0        S    0   \n",
      "\n",
      "       body                        home.dest  \n",
      "0       0.0                     St Louis, MO  \n",
      "1       0.0  Montreal, PQ / Chesterville, ON  \n",
      "2       0.0  Montreal, PQ / Chesterville, ON  \n",
      "3     135.0  Montreal, PQ / Chesterville, ON  \n",
      "4       0.0  Montreal, PQ / Chesterville, ON  \n",
      "...     ...                              ...  \n",
      "1304  328.0                                0  \n",
      "1305    0.0                                0  \n",
      "1306  304.0                                0  \n",
      "1307    0.0                                0  \n",
      "1308    0.0                                0  \n",
      "\n",
      "[1309 rows x 15 columns]\n"
     ]
    }
   ],
   "source": [
    "# Reading 'Target' data\n",
    "\n",
    "target_n = pd.read_excel(titanic_negative_target, sheet_name = 'titanic_target').fillna(0)\n",
    "print(target_n)"
   ]
  },
  {
   "cell_type": "code",
   "execution_count": 51,
   "metadata": {},
   "outputs": [
    {
     "data": {
      "text/plain": [
       "False"
      ]
     },
     "execution_count": 51,
     "metadata": {},
     "output_type": "execute_result"
    }
   ],
   "source": [
    "# Verify both Source & Target were Equal or not\n",
    "\n",
    "source_n.equals(target_n)"
   ]
  },
  {
   "cell_type": "code",
   "execution_count": 52,
   "metadata": {},
   "outputs": [],
   "source": [
    "# Source minus Target & Highlight Difference\n",
    "\n",
    "source_minus_target = source_n.copy()\n",
    "for row in range(source_minus_target.shape[0]):\n",
    "    for col in range(source_minus_target.shape[1]):\n",
    "        value_OLD = source_n.iloc[row,col]\n",
    "        try:\n",
    "            value_NEW = target_n.iloc[row,col]\n",
    "            if value_OLD==value_NEW:\n",
    "                source_minus_target.iloc[row,col] = target_n.iloc[row,col]\n",
    "            else:\n",
    "                source_minus_target.iloc[row,col] = ('{} => {}').format(value_OLD,value_NEW)\n",
    "        except:\n",
    "            source_minus_target.iloc[row,col] = ('{} => {}').format(value_OLD, 'NaN')"
   ]
  },
  {
   "cell_type": "code",
   "execution_count": 32,
   "metadata": {},
   "outputs": [],
   "source": [
    "# Writing Dataframe to a file\n",
    "\n",
    "writer = ExcelWriter(titanic_negative_mismatch)\n",
    "source_minus_target.to_excel(writer, \"Source_minus_Target\")\n",
    "writer.save()"
   ]
  },
  {
   "cell_type": "code",
   "execution_count": null,
   "metadata": {},
   "outputs": [],
   "source": [
    "# Till this point, code is working fine. Issues with the below code"
   ]
  },
  {
   "cell_type": "code",
   "execution_count": 53,
   "metadata": {},
   "outputs": [],
   "source": [
    "# writer = pd.ExcelWriter(fname, engine='xlsxwriter')\n",
    "\n",
    "writer = ExcelWriter(titanic_negative_mismatch)\n",
    "source_minus_target.to_excel(writer, sheet_name=\"Source_minus_Target\", index=False)\n",
    "# target_n.to_excel(writer, sheet_name = titanic_negative_source.stem, index=False)\n",
    "# source_n.to_excel(writer, sheet_name = titanic_negative_target.stem, index=False)\n",
    "writer.save()"
   ]
  },
  {
   "cell_type": "code",
   "execution_count": 8,
   "metadata": {},
   "outputs": [
    {
     "ename": "AttributeError",
     "evalue": "'Worksheet' object has no attribute 'hide_gridlines'",
     "output_type": "error",
     "traceback": [
      "\u001b[1;31m---------------------------------------------------------------------------\u001b[0m",
      "\u001b[1;31mAttributeError\u001b[0m                            Traceback (most recent call last)",
      "\u001b[1;32m<ipython-input-8-e0daff2cd7de>\u001b[0m in \u001b[0;36m<module>\u001b[1;34m\u001b[0m\n\u001b[0;32m      3\u001b[0m \u001b[0mWorkbook\u001b[0m  \u001b[1;33m=\u001b[0m \u001b[0mwriter\u001b[0m\u001b[1;33m.\u001b[0m\u001b[0mbook\u001b[0m\u001b[1;33m\u001b[0m\u001b[1;33m\u001b[0m\u001b[0m\n\u001b[0;32m      4\u001b[0m \u001b[0mWorksheet\u001b[0m \u001b[1;33m=\u001b[0m \u001b[0mwriter\u001b[0m\u001b[1;33m.\u001b[0m\u001b[0msheets\u001b[0m\u001b[1;33m[\u001b[0m\u001b[1;34m'Source_Target_Difference'\u001b[0m\u001b[1;33m]\u001b[0m\u001b[1;33m\u001b[0m\u001b[1;33m\u001b[0m\u001b[0m\n\u001b[1;32m----> 5\u001b[1;33m \u001b[0mWorksheet\u001b[0m\u001b[1;33m.\u001b[0m\u001b[0mhide_gridlines\u001b[0m\u001b[1;33m(\u001b[0m\u001b[1;36m2\u001b[0m\u001b[1;33m)\u001b[0m\u001b[1;33m\u001b[0m\u001b[1;33m\u001b[0m\u001b[0m\n\u001b[0m\u001b[0;32m      6\u001b[0m \u001b[1;33m\u001b[0m\u001b[0m\n\u001b[0;32m      7\u001b[0m \u001b[1;31m# Define format for - unCHANGED cells\u001b[0m\u001b[1;33m\u001b[0m\u001b[1;33m\u001b[0m\u001b[1;33m\u001b[0m\u001b[0m\n",
      "\u001b[1;31mAttributeError\u001b[0m: 'Worksheet' object has no attribute 'hide_gridlines'"
     ]
    }
   ],
   "source": [
    "# Applying Formates & Colors\n",
    "\n",
    "Workbook  = writer.book\n",
    "Worksheet = writer.sheets['Source_minus_Target']\n",
    "Worksheet.hide_gridlines(2)\n",
    "\n",
    "# Define format for - unCHANGED cells\n",
    "\n",
    "grey_fmt = workbook.add_format({'font_color': '#E0E0E0'}) \n",
    "\n",
    "# Define format for - CHANGED cells\n",
    "\n",
    "highlight_fmt = workbook.add_format({'font_color': '#FF0000', 'bg_color':'#B1B3B3'})"
   ]
  },
  {
   "cell_type": "code",
   "execution_count": null,
   "metadata": {},
   "outputs": [],
   "source": [
    "#  Highlight CHANGED cells\n",
    "\n",
    "worksheet.conditional_format('A1:ZZ1000', {'type': 'text',\n",
    "                                        'criteria': 'containing',\n",
    "                                        'value':'→',\n",
    "                                        'format': highlight_fmt})\n",
    "# Highlight unCHANGED cells\n",
    "\n",
    "worksheet.conditional_format('A1:ZZ1000', {'type': 'text',\n",
    "                                        'criteria': 'not containing',\n",
    "                                        'value':'→',\n",
    "                                        'format': grey_fmt})\n",
    "writer.save()"
   ]
  },
  {
   "cell_type": "code",
   "execution_count": null,
   "metadata": {},
   "outputs": [],
   "source": []
  },
  {
   "cell_type": "code",
   "execution_count": null,
   "metadata": {},
   "outputs": [],
   "source": []
  },
  {
   "cell_type": "code",
   "execution_count": 26,
   "metadata": {},
   "outputs": [],
   "source": []
  },
  {
   "cell_type": "code",
   "execution_count": null,
   "metadata": {},
   "outputs": [],
   "source": []
  },
  {
   "cell_type": "code",
   "execution_count": null,
   "metadata": {},
   "outputs": [],
   "source": []
  },
  {
   "cell_type": "code",
   "execution_count": 102,
   "metadata": {},
   "outputs": [],
   "source": []
  },
  {
   "cell_type": "code",
   "execution_count": null,
   "metadata": {},
   "outputs": [],
   "source": []
  },
  {
   "cell_type": "code",
   "execution_count": null,
   "metadata": {},
   "outputs": [],
   "source": []
  },
  {
   "cell_type": "code",
   "execution_count": null,
   "metadata": {},
   "outputs": [],
   "source": []
  }
 ],
 "metadata": {
  "kernelspec": {
   "display_name": "Python 3",
   "language": "python",
   "name": "python3"
  },
  "language_info": {
   "codemirror_mode": {
    "name": "ipython",
    "version": 3
   },
   "file_extension": ".py",
   "mimetype": "text/x-python",
   "name": "python",
   "nbconvert_exporter": "python",
   "pygments_lexer": "ipython3",
   "version": "3.7.4"
  }
 },
 "nbformat": 4,
 "nbformat_minor": 2
}
