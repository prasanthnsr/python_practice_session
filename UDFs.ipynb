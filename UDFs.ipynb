{
 "cells": [
  {
   "cell_type": "code",
   "execution_count": 4,
   "metadata": {},
   "outputs": [],
   "source": [
    "# UDF Defination\n",
    "\n",
    "def greet_user():\n",
    "    \"\"\" Display Greetings \"\"\" # doc string - commenting inside a UDF\n",
    "    print('Welcome !')"
   ]
  },
  {
   "cell_type": "code",
   "execution_count": 5,
   "metadata": {},
   "outputs": [
    {
     "name": "stdout",
     "output_type": "stream",
     "text": [
      "Welcome !\n"
     ]
    }
   ],
   "source": [
    "# UDF call\n",
    "\n",
    "greet_user() "
   ]
  },
  {
   "cell_type": "code",
   "execution_count": 6,
   "metadata": {},
   "outputs": [],
   "source": [
    "# Passing parameters to UDF & Arguments Decleration\n",
    "\n",
    "# Whoever log-in to the site, greet that user\n",
    "\n",
    "def greet_a_user(username):\n",
    "    \"\"\" Greeting a specific user who logedin \"\"\"\n",
    "    print(f'Hello - {username.title()}')"
   ]
  },
  {
   "cell_type": "code",
   "execution_count": 8,
   "metadata": {},
   "outputs": [
    {
     "ename": "NameError",
     "evalue": "name 'pRaSaNtH' is not defined",
     "output_type": "error",
     "traceback": [
      "\u001b[1;31m---------------------------------------------------------------------------\u001b[0m",
      "\u001b[1;31mNameError\u001b[0m                                 Traceback (most recent call last)",
      "\u001b[1;32m<ipython-input-8-31247a0396f1>\u001b[0m in \u001b[0;36m<module>\u001b[1;34m\u001b[0m\n\u001b[0;32m      1\u001b[0m \u001b[1;31m# Passing paramaters / arguments run-time\u001b[0m\u001b[1;33m\u001b[0m\u001b[1;33m\u001b[0m\u001b[1;33m\u001b[0m\u001b[0m\n\u001b[0;32m      2\u001b[0m \u001b[1;33m\u001b[0m\u001b[0m\n\u001b[1;32m----> 3\u001b[1;33m \u001b[0mgreet_a_user\u001b[0m\u001b[1;33m(\u001b[0m\u001b[0mpRaSaNtH\u001b[0m\u001b[1;33m)\u001b[0m\u001b[1;33m\u001b[0m\u001b[1;33m\u001b[0m\u001b[0m\n\u001b[0m",
      "\u001b[1;31mNameError\u001b[0m: name 'pRaSaNtH' is not defined"
     ]
    }
   ],
   "source": [
    "# Passing paramaters / arguments run-time\n",
    "\n",
    "greet_a_user(pRaSaNtH) # arguments should be in quotes"
   ]
  },
  {
   "cell_type": "code",
   "execution_count": 9,
   "metadata": {},
   "outputs": [
    {
     "name": "stdout",
     "output_type": "stream",
     "text": [
      "Hello - Prasanth\n"
     ]
    }
   ],
   "source": [
    "# Passing paramaters / arguments run-time\n",
    "\n",
    "greet_a_user('pRaSaNtH') # arguments should be in quotes"
   ]
  },
  {
   "cell_type": "code",
   "execution_count": null,
   "metadata": {},
   "outputs": [],
   "source": [
    "# Different types of Arguments - Positional Arguments, Keyword Arguments, Default Arguments"
   ]
  },
  {
   "cell_type": "code",
   "execution_count": 4,
   "metadata": {},
   "outputs": [],
   "source": [
    "# Positional Arguments example\n",
    "\n",
    "def discribe_pet(animal_type, pet_name):\n",
    "    print(f\"\\n I have an animal type - {animal_type}\")\n",
    "    print(f\"{animal_type}'s name is - {pet_name.title()}\")"
   ]
  },
  {
   "cell_type": "code",
   "execution_count": 5,
   "metadata": {},
   "outputs": [
    {
     "name": "stdout",
     "output_type": "stream",
     "text": [
      "\n",
      " I have an animal type - cat\n",
      "cat's name is - Pixcy\n"
     ]
    }
   ],
   "source": [
    "discribe_pet('cat', 'pixcy')"
   ]
  },
  {
   "cell_type": "code",
   "execution_count": 7,
   "metadata": {},
   "outputs": [],
   "source": [
    "def kids(kid_name='name', kid_gender='gender'):\n",
    "    print(f\"\\n I have a {kid_gender} kid by the name {kid_name.title()}\")"
   ]
  },
  {
   "cell_type": "code",
   "execution_count": 10,
   "metadata": {},
   "outputs": [
    {
     "name": "stdout",
     "output_type": "stream",
     "text": [
      "\n",
      " I have a Female kid by the name Madhu\n"
     ]
    }
   ],
   "source": [
    "kids(kid_gender = 'Female', kid_name = 'Madhu')"
   ]
  },
  {
   "cell_type": "code",
   "execution_count": 11,
   "metadata": {},
   "outputs": [
    {
     "name": "stdout",
     "output_type": "stream",
     "text": [
      "\n",
      " I have a Male kid by the name Abhi\n"
     ]
    }
   ],
   "source": [
    "kids(kid_gender = 'Male', kid_name = 'Abhi')"
   ]
  },
  {
   "cell_type": "code",
   "execution_count": 36,
   "metadata": {},
   "outputs": [],
   "source": [
    "# Default arguments should be difined at the end of paramaters\n",
    "\n",
    "def describe_pet(pet_name, animal_type='dog'):\n",
    "    print(f\"\\n I have a {animal_type}\")\n",
    "    print(f\" my {animal_type}'s name is - {pet_name.title()}\")"
   ]
  },
  {
   "cell_type": "code",
   "execution_count": 37,
   "metadata": {},
   "outputs": [
    {
     "name": "stdout",
     "output_type": "stream",
     "text": [
      "\n",
      " I have a dog\n",
      " my dog's name is - Rocky\n"
     ]
    }
   ],
   "source": [
    "describe_pet('rocky') # Making use of default arguments"
   ]
  },
  {
   "cell_type": "code",
   "execution_count": 38,
   "metadata": {},
   "outputs": [
    {
     "name": "stdout",
     "output_type": "stream",
     "text": [
      "\n",
      " I have a Dogie\n",
      " my Dogie's name is - Rocky\n"
     ]
    }
   ],
   "source": [
    "describe_pet('rocky', 'Dogie')"
   ]
  },
  {
   "cell_type": "code",
   "execution_count": 39,
   "metadata": {},
   "outputs": [],
   "source": [
    "# UDF with Return values\n",
    "\n",
    "def get_name_formatted(first_name, last_name):\n",
    "    \"\"\" Returns a full name well formatted\"\"\"\n",
    "    full_name = f\"{first_name} {last_name}\"\n",
    "    return full_name.title()"
   ]
  },
  {
   "cell_type": "code",
   "execution_count": 20,
   "metadata": {},
   "outputs": [
    {
     "data": {
      "text/plain": [
       "'Prasanth Nsr'"
      ]
     },
     "execution_count": 20,
     "metadata": {},
     "output_type": "execute_result"
    }
   ],
   "source": [
    "get_name_formatted('prasanth','nsr')"
   ]
  },
  {
   "cell_type": "code",
   "execution_count": 12,
   "metadata": {},
   "outputs": [],
   "source": [
    "# UDFs with Lists as Argument\n",
    "\n",
    "def congrats_user(names):\n",
    "    for name in names:\n",
    "        print(f\"{name}, Congrats ! Well Done !\")"
   ]
  },
  {
   "cell_type": "code",
   "execution_count": 15,
   "metadata": {},
   "outputs": [
    {
     "name": "stdout",
     "output_type": "stream",
     "text": [
      "AAA, Congrats ! Well Done !\n",
      "BBB, Congrats ! Well Done !\n",
      "CCC, Congrats ! Well Done !\n"
     ]
    }
   ],
   "source": [
    "user_names = ['AAA','BBB','CCC']\n",
    "congrats_user(user_names)"
   ]
  },
  {
   "cell_type": "code",
   "execution_count": 18,
   "metadata": {},
   "outputs": [],
   "source": [
    "# UDFs with Tuples as Argument\n",
    "\n",
    "def english_vovels(vovels):\n",
    "    for vovel in vovels:\n",
    "        print(f\"{vovel} - is a Vovel\")"
   ]
  },
  {
   "cell_type": "code",
   "execution_count": 19,
   "metadata": {},
   "outputs": [
    {
     "name": "stdout",
     "output_type": "stream",
     "text": [
      "a - is a Vovel\n",
      "e - is a Vovel\n",
      "c - is a Vovel\n",
      "d - is a Vovel\n",
      "e - is a Vovel\n"
     ]
    }
   ],
   "source": [
    "vovels = ('a','e','c','d','e')\n",
    "english_vovels(vovels)"
   ]
  },
  {
   "cell_type": "code",
   "execution_count": 20,
   "metadata": {},
   "outputs": [],
   "source": [
    "# UDFs with Dictionaries as Argument\n",
    "\n",
    "def student_marks(dict):\n",
    "    for subject, marks in dict:\n",
    "        print(f\"Scored {marks} marks in {subject}\")"
   ]
  },
  {
   "cell_type": "code",
   "execution_count": 21,
   "metadata": {},
   "outputs": [
    {
     "ename": "ValueError",
     "evalue": "too many values to unpack (expected 2)",
     "output_type": "error",
     "traceback": [
      "\u001b[1;31m---------------------------------------------------------------------------\u001b[0m",
      "\u001b[1;31mValueError\u001b[0m                                Traceback (most recent call last)",
      "\u001b[1;32m<ipython-input-21-a1709d16d0a1>\u001b[0m in \u001b[0;36m<module>\u001b[1;34m\u001b[0m\n\u001b[0;32m      1\u001b[0m \u001b[0mmarks\u001b[0m \u001b[1;33m=\u001b[0m \u001b[1;33m{\u001b[0m\u001b[1;34m'sub_1'\u001b[0m\u001b[1;33m:\u001b[0m\u001b[1;36m100\u001b[0m\u001b[1;33m,\u001b[0m \u001b[1;34m'sub_2'\u001b[0m\u001b[1;33m:\u001b[0m\u001b[1;36m90\u001b[0m\u001b[1;33m,\u001b[0m \u001b[1;34m'sub_3'\u001b[0m\u001b[1;33m:\u001b[0m\u001b[1;36m80\u001b[0m\u001b[1;33m}\u001b[0m\u001b[1;33m\u001b[0m\u001b[1;33m\u001b[0m\u001b[0m\n\u001b[1;32m----> 2\u001b[1;33m \u001b[0mstudent_marks\u001b[0m\u001b[1;33m(\u001b[0m\u001b[0mmarks\u001b[0m\u001b[1;33m)\u001b[0m\u001b[1;33m\u001b[0m\u001b[1;33m\u001b[0m\u001b[0m\n\u001b[0m",
      "\u001b[1;32m<ipython-input-20-7a43e9cfcef8>\u001b[0m in \u001b[0;36mstudent_marks\u001b[1;34m(dict)\u001b[0m\n\u001b[0;32m      2\u001b[0m \u001b[1;33m\u001b[0m\u001b[0m\n\u001b[0;32m      3\u001b[0m \u001b[1;32mdef\u001b[0m \u001b[0mstudent_marks\u001b[0m\u001b[1;33m(\u001b[0m\u001b[0mdict\u001b[0m\u001b[1;33m)\u001b[0m\u001b[1;33m:\u001b[0m\u001b[1;33m\u001b[0m\u001b[1;33m\u001b[0m\u001b[0m\n\u001b[1;32m----> 4\u001b[1;33m     \u001b[1;32mfor\u001b[0m \u001b[0msubject\u001b[0m\u001b[1;33m,\u001b[0m \u001b[0mmarks\u001b[0m \u001b[1;32min\u001b[0m \u001b[0mdict\u001b[0m\u001b[1;33m:\u001b[0m\u001b[1;33m\u001b[0m\u001b[1;33m\u001b[0m\u001b[0m\n\u001b[0m\u001b[0;32m      5\u001b[0m         \u001b[0mprint\u001b[0m\u001b[1;33m(\u001b[0m\u001b[1;34mf\"Scored {marks} marks in {subject}\"\u001b[0m\u001b[1;33m)\u001b[0m\u001b[1;33m\u001b[0m\u001b[1;33m\u001b[0m\u001b[0m\n",
      "\u001b[1;31mValueError\u001b[0m: too many values to unpack (expected 2)"
     ]
    }
   ],
   "source": [
    "marks = {'sub_1':100, 'sub_2':90, 'sub_3':80}\n",
    "student_marks(marks)"
   ]
  },
  {
   "cell_type": "code",
   "execution_count": null,
   "metadata": {},
   "outputs": [],
   "source": []
  }
 ],
 "metadata": {
  "kernelspec": {
   "display_name": "Python 3",
   "language": "python",
   "name": "python3"
  },
  "language_info": {
   "codemirror_mode": {
    "name": "ipython",
    "version": 3
   },
   "file_extension": ".py",
   "mimetype": "text/x-python",
   "name": "python",
   "nbconvert_exporter": "python",
   "pygments_lexer": "ipython3",
   "version": "3.7.4"
  }
 },
 "nbformat": 4,
 "nbformat_minor": 2
}
